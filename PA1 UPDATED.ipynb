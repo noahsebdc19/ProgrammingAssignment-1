{
 "cells": [
  {
   "cell_type": "code",
   "execution_count": 5,
   "id": "7928ae25-6140-40fe-88f5-6d3032429142",
   "metadata": {},
   "outputs": [
    {
     "name": "stdin",
     "output_type": "stream",
     "text": [
      "Enter a word:  noah\n"
     ]
    },
    {
     "name": "stdout",
     "output_type": "stream",
     "text": [
      "Alphabetical Order: ahno\n"
     ]
    }
   ],
   "source": [
    "# 1. Alphabet Soup Problem\n",
    "# The task is to create a function that takes a string as input and returns a new string with letters arranged alphabetically. \n",
    "# This code sorts the letters of each word alphabetically and outputs the rearranged version. \n",
    "# It's like taking a word, scrambling its letters, and then neatly organizing them from A to Z.\n",
    "\n",
    "# Ask the user to enter a word\n",
    "word = input(\"Enter a word: \")\n",
    "\n",
    "# Sort the letters alphabetically and join them back into a string\n",
    "sorted_word = ''.join(sorted(word))\n",
    "\n",
    "# Print the result\n",
    "print(\"Alphabetical Order:\", sorted_word)"
   ]
  },
  {
   "cell_type": "code",
   "execution_count": 10,
   "id": "239b4f2f-ec42-4b18-be09-ed548c1cd998",
   "metadata": {},
   "outputs": [
    {
     "name": "stdin",
     "output_type": "stream",
     "text": [
      "Enter a sentence:  i am Sad\n"
     ]
    },
    {
     "name": "stdout",
     "output_type": "stream",
     "text": [
      "Emoji version: i am Sad\n"
     ]
    }
   ],
   "source": [
    "# 2. Emoticon Problem\n",
    "# The task is to create a function that replaces specific words with emoticons. \n",
    "# Given a sentence as a string, the function should replace the phrase \"smile,\" \"grin,\" \"sad,\" and \"mad\" with their corresponding emoticons. \n",
    "# This code processes sentences expressing different emotions and substitutes these words with emoji-like symbols, adding a fun twist \n",
    "# to their expressiveness. In summary, it transforms feelings into emojis, making the process engaging and enjoyable.\n",
    "\n",
    "# Ask the user to type a sentenceyo\n",
    "sentence = input(\"Enter a sentence: \")\n",
    "\n",
    "# Replace certain words with emojis\n",
    "sentence = sentence.replace(\"happy\", \":)\")\n",
    "sentence = sentence.replace(\"insane\", \":D\")\n",
    "sentence = sentence.replace(\"sad\", \":(\")\n",
    "sentence = sentence.replace(\"angry\", \">:(\")\n",
    "\n",
    "# Print the updated sentence\n",
    "print(\"Emoji version:\", sentence)"
   ]
  },
  {
   "cell_type": "code",
   "execution_count": 11,
   "id": "709348e2-d627-4cb5-a911-49c59fc987b5",
   "metadata": {},
   "outputs": [
    {
     "name": "stdout",
     "output_type": "stream",
     "text": [
      "first:  1\n",
      "middle:  [2, 3, 4, 5]\n",
      "last:  6\n"
     ]
    }
   ],
   "source": [
    "# 3. Unpacking List Problem\n",
    "# The task at hand is not just a theoretical exercise, but a practical demonstration of how to unpack a list into three variables: \n",
    "# `first`, `middle`, and `last`. The `middle` variable represents all the elements found between the first and last elements of the list. \n",
    "# The program demonstrates how to extract specific list parts in Python using indexing and slicing. \n",
    "# This method allows to easily identify and display the first element, the middle group of elements, and the last element, \n",
    "# effectively illustrating how lists can be divided into smaller parts.\n",
    "\n",
    "Ist = [1, 2, 3, 4, 5, 6]     # Create a list of numbers from 1 to 6 and store it in variable Ist\n",
    "first = Ist[0]               # Take the very first element (index 0 → number 1) and store it in 'first'\n",
    "middle = Ist[1:5]             # Slice the list from index 1 up to index 4 → [2, 3, 4, 5]\n",
    "last = Ist[5]                 # Take the element at index 5 (the last number → 6) and store it in 'last'\n",
    "\n",
    "print(\"first: \", first)       # Print: first:  1\n",
    "print(\"middle: \", middle)     # Print: middle:  [2, 3, 4, 5]\n",
    "print(\"last: \", last)         # Print: last:  6"
   ]
  }
 ],
 "metadata": {
  "kernelspec": {
   "display_name": "Python 3 (ipykernel)",
   "language": "python",
   "name": "python3"
  },
  "language_info": {
   "codemirror_mode": {
    "name": "ipython",
    "version": 3
   },
   "file_extension": ".py",
   "mimetype": "text/x-python",
   "name": "python",
   "nbconvert_exporter": "python",
   "pygments_lexer": "ipython3",
   "version": "3.13.5"
  }
 },
 "nbformat": 4,
 "nbformat_minor": 5
}
