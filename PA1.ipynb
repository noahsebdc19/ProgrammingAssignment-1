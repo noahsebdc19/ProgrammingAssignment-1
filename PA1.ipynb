{
 "cells": [
  {
   "cell_type": "code",
   "execution_count": 1,
   "id": "cca21077-afd9-4420-b57b-13dcf0543a09",
   "metadata": {},
   "outputs": [
    {
     "name": "stdout",
     "output_type": "stream",
     "text": [
      "ehllo\n",
      "ahno\n"
     ]
    }
   ],
   "source": [
    "# 1. Alphabet Soup Problem\n",
    "# The task is to create a function that takes a string as input and returns a new string with letters arranged alphabetically. \n",
    "# This code sorts the letters of each word alphabetically and outputs the rearranged version. \n",
    "# It's like taking a word, scrambling its letters, and then neatly organizing them from A to Z.\n",
    "\n",
    "s = \"hello\"              # Store the word \"hello\" in variable s\n",
    "n = ''.join(sorted(s))   # Sort the letters of \"hello\" alphabetically and join into \"ehllo\"\n",
    "\n",
    "k = \"noah\"               # Store the word \"noah\" in variable k\n",
    "l = ''.join(sorted(k))   # Sort the letters of \"noah\" alphabetically and join into \"ahno\"\n",
    "\n",
    "print(n)                 # Print \"ehllo\"\n",
    "print(l)                 # Print \"ahno\""
   ]
  },
  {
   "cell_type": "code",
   "execution_count": 2,
   "id": "0ff8849b-e7e4-4b11-b4dd-ffd8fe110e64",
   "metadata": {},
   "outputs": [
    {
     "name": "stdout",
     "output_type": "stream",
     "text": [
      "I am :)!\n",
      "You make me go :D!\n",
      "I'm really feeling :( these days.\n",
      "I was >:( with myself for making such a mistake.\n"
     ]
    }
   ],
   "source": [
    "# 2. Emoticon Problem\n",
    "# The task is to create a function that replaces specific words with emoticons. \n",
    "# Given a sentence as a string, the function should replace the phrase \"smile,\" \"grin,\" \"sad,\" and \"mad\" with their corresponding emoticons. \n",
    "# This code processes sentences expressing different emotions and substitutes these words with emoji-like symbols, adding a fun twist \n",
    "# to their expressiveness. In summary, it transforms feelings into emojis, making the process engaging and enjoyable.\n",
    "\n",
    "s = 'I am happy!'                                   # Store the sentence \"I am happy!\" in variable s\n",
    "k = s.replace(\"happy\", \":)\")                        # Replace the word \"happy\" with \":)\" → \"I am :)\"\n",
    "\n",
    "u = 'You make me go insane!'                        # Store the sentence \"You make me go insane!\" in variable u\n",
    "a = u.replace(\"insane\", \":D\")                       # Replace the word \"insane\" with \":D\" → \"You make me go :D\"\n",
    "\n",
    "n = \"I'm really feeling sad these days.\"            # Store the sentence with \"sad\" in variable n\n",
    "p = n.replace(\"sad\", \":(\")                          # Replace \"sad\" with \":(\" → \"I'm really feeling :( these days.\"\n",
    "\n",
    "y = \"I was angry with myself for making such a mistake.\"  # Store the sentence with \"angry\" in variable y\n",
    "m = y.replace(\"angry\", \">:(\")                       # Replace \"angry\" with \">:(\" → \"I was >:( with myself for making such a mistake.\"\n",
    "\n",
    "print(k)                                            # Print \"I am :)\"\n",
    "print(a)                                            # Print \"You make me go :D\"\n",
    "print(p)                                            # Print \"I'm really feeling :( these days.\"\n",
    "print(m)                                            # Print \"I was >:( with myself for making such a mistake.\""
   ]
  },
  {
   "cell_type": "code",
   "execution_count": 3,
   "id": "48f028cd-c941-4b57-821c-db98fa4b0bce",
   "metadata": {},
   "outputs": [
    {
     "name": "stdout",
     "output_type": "stream",
     "text": [
      "first:  1\n",
      "middle:  [2, 3, 4, 5]\n",
      "last:  6\n"
     ]
    }
   ],
   "source": [
    "# 3. Unpacking List Problem\n",
    "# The task at hand is not just a theoretical exercise, but a practical demonstration of how to unpack a list into three variables: \n",
    "# `first`, `middle`, and `last`. The `middle` variable represents all the elements found between the first and last elements of the list. \n",
    "# The program demonstrates how to extract specific list parts in Python using indexing and slicing. \n",
    "# This method allows to easily identify and display the first element, the middle group of elements, and the last element, \n",
    "# effectively illustrating how lists can be divided into smaller parts.\n",
    "\n",
    "Ist = [1, 2, 3, 4, 5, 6]     # Create a list of numbers from 1 to 6 and store it in variable Ist\n",
    "first = Ist[0]               # Take the very first element (index 0 → number 1) and store it in 'first'\n",
    "middle = Ist[1:5]             # Slice the list from index 1 up to index 4 → [2, 3, 4, 5]\n",
    "last = Ist[5]                 # Take the element at index 5 (the last number → 6) and store it in 'last'\n",
    "\n",
    "print(\"first: \", first)       # Print: first:  1\n",
    "print(\"middle: \", middle)     # Print: middle:  [2, 3, 4, 5]\n",
    "print(\"last: \", last)         # Print: last:  6"
   ]
  }
 ],
 "metadata": {
  "kernelspec": {
   "display_name": "Python 3 (ipykernel)",
   "language": "python",
   "name": "python3"
  },
  "language_info": {
   "codemirror_mode": {
    "name": "ipython",
    "version": 3
   },
   "file_extension": ".py",
   "mimetype": "text/x-python",
   "name": "python",
   "nbconvert_exporter": "python",
   "pygments_lexer": "ipython3",
   "version": "3.13.5"
  }
 },
 "nbformat": 4,
 "nbformat_minor": 5
}
